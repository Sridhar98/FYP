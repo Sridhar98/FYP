{
  "nbformat": 4,
  "nbformat_minor": 0,
  "metadata": {
    "colab": {
      "name": "Untitled5.ipynb",
      "provenance": [],
      "collapsed_sections": [],
      "mount_file_id": "1jlQ_nZlOHvFmxw4qYjkm5uoBK8isEQSn",
      "authorship_tag": "ABX9TyPBHmPJQdVd6FkAHUmTQPKB",
      "include_colab_link": true
    },
    "kernelspec": {
      "name": "python3",
      "display_name": "Python 3"
    }
  },
  "cells": [
    {
      "cell_type": "markdown",
      "metadata": {
        "id": "view-in-github",
        "colab_type": "text"
      },
      "source": [
        "<a href=\"https://colab.research.google.com/github/swethasiva/FYP/blob/master/formatReferencing.ipynb\" target=\"_parent\"><img src=\"https://colab.research.google.com/assets/colab-badge.svg\" alt=\"Open In Colab\"/></a>"
      ]
    },
    {
      "cell_type": "code",
      "metadata": {
        "id": "hvAVysc5QHXN",
        "colab_type": "code",
        "outputId": "06366b39-61b5-4bf1-9441-c0c62a59e908",
        "colab": {
          "base_uri": "https://localhost:8080/",
          "height": 206
        }
      },
      "source": [
        "!python max.py"
      ],
      "execution_count": 12,
      "outputs": [
        {
          "output_type": "stream",
          "text": [
            "\n",
            " [[44.0, 71.0, 285.0, 482.0], [259.0, 48.0, 475.0, 481.0], [537.0, 32.0, 735.0, 505.0], [735.0, 26.0, 912.0, 487.0]] \n",
            " [[22.0, 49.0, 281.0, 480.0], [257.0, 36.0, 502.0, 500.0], [511.0, 40.0, 755.0, 493.0], [727.0, 24.0, 920.0, 496.0]] \n",
            " [[30.3207, 76.1398, 269.5248, 468.1447], [280.9196, 54.3592, 481.079, 465.7646], [520.8618, 46.2031, 727.9916, 475.0805], [718.7733, 48.0717, 914.2603, 466.435]]\n",
            "\n",
            " [[0.02253, 0.256874, 0.127305, 0.881138], [0.258066, 0.473924, 0.086, 0.884581], [0.506721, 0.701708, 0.089442, 0.896054], [0.704094, 0.89133, 0.05961, 0.868517]] \n",
            "\n",
            "4\n",
            "4\n",
            "4\n"
          ],
          "name": "stdout"
        }
      ]
    },
    {
      "cell_type": "code",
      "metadata": {
        "id": "jIskgh0-XBHE",
        "colab_type": "code",
        "outputId": "2d2369e6-f536-42d4-9642-85de0f333e1d",
        "colab": {
          "base_uri": "https://localhost:8080/",
          "height": 34
        }
      },
      "source": [
        "import sys\n",
        "sys.maxsize\n"
      ],
      "execution_count": 0,
      "outputs": [
        {
          "output_type": "execute_result",
          "data": {
            "text/plain": [
              "9223372036854775807"
            ]
          },
          "metadata": {
            "tags": []
          },
          "execution_count": 74
        }
      ]
    }
  ]
}